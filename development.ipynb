{
 "cells": [
  {
   "cell_type": "code",
   "execution_count": 44,
   "metadata": {
    "collapsed": true
   },
   "outputs": [],
   "source": [
    "import os\n",
    "import subprocess\n",
    "import numpy as np\n",
    "from pandas import read_table"
   ]
  },
  {
   "cell_type": "code",
   "execution_count": 47,
   "metadata": {
    "collapsed": false
   },
   "outputs": [],
   "source": [
    "    REARTH = 6369.0     # radius of Earth (m)\n",
    "    GMR = 34.163195     # hydrostatic constant\n",
    "    NTAB = 8            # number of entries in the defining tables\n",
    "    # ============================================================================\n",
    "    # CREATE DATAFRAME (1976 STD. ATMOSPHERE)\n",
    "    # ============================================================================\n",
    "    path = os.path.join(os.getcwd(), 'atmosData.csv')\n",
    "    df = read_table(path, delimiter=',', header=1, dtype= {'h(m)': np.float64, 'P(Pascal)': np.float64, 'T(K)': np.float64, 'dT(K/m)': np.float64})\n",
    "    # * * * * * * * * * * * * * * Headers * * * * * * * * * * * * * *\n",
    "    # i\th(m)\th(ft)\tP(pascal)\tP(inHg)\tT(K)\tdT(K/m)\tdT(K/ft)\n",
    "    h = alt*REARTH/(alt+REARTH)  # convert geometric to geopotential altitude\n",
    "    htab = df['h(m)']  # create array with geopotential altitudes (m)\n",
    "    gtab = df['dT(K/m)']  # Temperature Lapse Rate (K/m)\n",
    "    ttab = df['T(K)']  # Standard Temperature (K)\n",
    "    ptab = df['P(Pascal)']  # Static Pressure (Pascals)"
   ]
  },
  {
   "cell_type": "code",
   "execution_count": 46,
   "metadata": {
    "collapsed": false
   },
   "outputs": [
    {
     "data": {
      "text/plain": [
       "11000.0"
      ]
     },
     "execution_count": 46,
     "metadata": {},
     "output_type": "execute_result"
    }
   ],
   "source": [
    "htab[1]"
   ]
  },
  {
   "cell_type": "code",
   "execution_count": 54,
   "metadata": {
    "collapsed": false
   },
   "outputs": [
    {
     "name": "stdout",
     "output_type": "stream",
     "text": [
      "Help on built-in function print in module builtins:\n",
      "\n",
      "print(...)\n",
      "    print(value, ..., sep=' ', end='\\n', file=sys.stdout, flush=False)\n",
      "    \n",
      "    Prints the values to a stream, or to sys.stdout by default.\n",
      "    Optional keyword arguments:\n",
      "    file:  a file-like object (stream); defaults to the current sys.stdout.\n",
      "    sep:   string inserted between values, default a space.\n",
      "    end:   string appended after the last value, default a newline.\n",
      "    flush: whether to forcibly flush the stream.\n",
      "\n"
     ]
    }
   ],
   "source": [
    "help(print)"
   ]
  }
 ],
 "metadata": {
  "kernelspec": {
   "display_name": "VPython",
   "language": "python",
   "name": "vpython"
  },
  "language_info": {
   "codemirror_mode": {
    "name": "ipython",
    "version": 3
   },
   "file_extension": ".py",
   "mimetype": "text/x-python",
   "name": "python",
   "nbconvert_exporter": "python",
   "pygments_lexer": "ipython3",
   "version": "3.6.0"
  }
 },
 "nbformat": 4,
 "nbformat_minor": 2
}
